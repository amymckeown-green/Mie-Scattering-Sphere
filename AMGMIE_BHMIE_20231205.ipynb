{
 "cells": [
  {
   "cell_type": "markdown",
   "id": "f6b8e512",
   "metadata": {},
   "source": [
    "This script was developed by Amy McKeown-Green at Stanford University, Dionne lab Nov 20-27, 2023.\n",
    "It is primarily a python version of the BHMIE code from 'Absorption and Scattering of Light by Small Particles' by\n",
    "BOHREN and HUFFMAN, Wiley Professional Paperback Edition Published 1998. It has key differences from BHMIE that take \n",
    "advantage of the speed and storage capacity of modern day computers that allows for parameters to be stored from \n",
    "each iteration. \n",
    "\n",
    "It allows for the calculation of the Stokes parameters from the scattering matrix for a user-determined set of \n",
    "scattering angles along with the scattering, absorption, and extinction cross sections. The code often normalizes these\n",
    "by $\\pi r^2$ to obtain efficiencies. \n",
    "\n",
    "While this code is not the most efficient or well-designed, it is intended to strongly mirror the underlying mathematics and be easily understandable. To that end, I will try to interdisperse the mathematical basis for each function and leave some comments in the code. \n",
    "\n"
   ]
  },
  {
   "cell_type": "code",
   "execution_count": 2,
   "id": "ac7ad8dd",
   "metadata": {},
   "outputs": [],
   "source": [
    "import numpy as np \n",
    "import matplotlib.pyplot as plt"
   ]
  },
  {
   "cell_type": "markdown",
   "id": "529467dd",
   "metadata": {},
   "source": [
    "$x = \\frac{2\\pi N r}{\\lambda}$ represents a size parameter used to determine max indices for interation. "
   ]
  },
  {
   "cell_type": "code",
   "execution_count": 3,
   "id": "9fdb5421",
   "metadata": {},
   "outputs": [],
   "source": [
    "def calculate_x(medium_n, sphere_n, radius, wavelength, num_angles):\n",
    "    ''' Input parameters: medium_n, sphere_n are the refractive indices of the sphere and surrounding medium. They can be complex numbers\n",
    "    radius and wavelength are both real doubles \n",
    "    num_angles is a numpy array that is user-defined and determines the different scattering locations used to calculate \n",
    "    the stokes parameters\n",
    "    \n",
    "    !!!!!!BOTH wavelength and radius have to me in the SAME units!!!!!!!!!\n",
    "    \n",
    "    Output parameters: x is the relative size parameter, N is the relative refractive index, NMX is the max index'''\n",
    "  \n",
    "    relative_N = sphere_n/medium_n # this should be a complex number \n",
    "    x = 2*np.pi*medium_n*radius*(1/wavelength)\n",
    "    #print(x)\n",
    "      \n",
    "    stop_indx = int(abs(x+(4*x**(1/3))+2))\n",
    "    mx = relative_N*x\n",
    "    NMX = max(stop_indx, int(abs(mx)))+15\n",
    "\n",
    "    return x, relative_N, NMX"
   ]
  },
  {
   "cell_type": "markdown",
   "id": "3d4a1c94",
   "metadata": {},
   "source": [
    "$\\pi_n$ and $\\tau_n$ are angle-dependent functions that are either directly proportional to (or proportional to the derivative) of the associated Legendre functions of the first kind which arise during the expansion of a plance wave in vector spherical harmonics. $\\pi_n$ and $\\tau_n$ have the following recurance relations.\n",
    "\n",
    "$$ \\pi_n = \\frac{P_n^1}{sin\\theta} = \\frac{2n-1}{n-1}\\mu \\pi_{n-1} - \\frac{n}{n-1} \\pi_{n-2}$$\n",
    "\n",
    "$$ \\tau_n =  \\dfrac{dP_n^1}{d\\theta} = n \\mu \\pi_n - (n+1)\\pi_{n-1} $$\n",
    "\n",
    "Here $\\mu = cos\\theta$ and $\\pi_0 = 0$, $\\pi_1 = 1$. \n"
   ]
  },
  {
   "cell_type": "code",
   "execution_count": 4,
   "id": "d13a006e",
   "metadata": {},
   "outputs": [],
   "source": [
    "def pi_n_calc(num_angles, NMX):\n",
    "    ''' \n",
    "    Input parameters: num_angles is a user-defined array, NMX is the max index of integration\n",
    "    Output parameters: pi_n_store is an i x j array where the ith row corresponds to a given scattering angle \n",
    "    and the jth column corresponds to the index \"n\" \n",
    "    '''\n",
    "    \n",
    "    #each angle corresponds to a row and each column corresponds to a value of n\n",
    "    delta_angle = (np.pi/2)*(1/(num_angles-1))\n",
    "    angle_holder = np.arange(0,num_angles)\n",
    "    angles = angle_holder*delta_angle\n",
    "    angles.shape = (len(angles),1)\n",
    "    \n",
    "    pi_n_store = np.zeros([num_angles, NMX+1])\n",
    "    pi_n_store.shape = (num_angles,NMX+1)\n",
    "    tau_n_store = np.zeros([num_angles, NMX+1])\n",
    "    #print(angles, 'angles')\n",
    "    \n",
    "    for n in range(0,NMX+1):\n",
    "        if n == 0:\n",
    "            pi_n = np.zeros(num_angles)\n",
    "        elif n == 1:\n",
    "            pi_n = np.zeros(num_angles) + 1\n",
    "        else:\n",
    "            pi_n_m_1 = pi_n_store[:,n-1]\n",
    "            pi_n_m_1.shape = (len( pi_n_m_1),1)\n",
    "            pi_n_m_2 = pi_n_store[:,n-2]\n",
    "            pi_n_m_2.shape = (len( pi_n_m_2),1)\n",
    "            \n",
    "            pi_n = (2*n-1)/(n-1) * np.cos(angles) *pi_n_m_1 - ((n)/(n-1)) * pi_n_m_2\n",
    "            pi_n.shape = (num_angles)\n",
    "        \n",
    "        pi_n_store[:,n] = pi_n[:]\n",
    "    #print('dimensions','pi_n_store',  np.size(pi_n_store[:,0]),np.size(pi_n_store[0,:]))\n",
    "        \n",
    "    return pi_n_store\n"
   ]
  },
  {
   "cell_type": "code",
   "execution_count": 5,
   "id": "e8bfeeee",
   "metadata": {},
   "outputs": [],
   "source": [
    "#now use this to calculate tau\n",
    "''' Input parameters: pi_n_store is an i x j array where the ith row corresponds to a given scattering angle \n",
    "    and the jth column corresponds to the index \"n\" and num_angles is a user defined array\n",
    "    \n",
    "    Output parameters: tau_n_store is an i x j array where the ith row corresponds to a given scattering angle \n",
    "    and the jth column corresponds to the index \"n\" \n",
    "    '''\n",
    "\n",
    "def tau_n_calc(pi_n_store, num_angles):\n",
    "       \n",
    "    delta_angle = (np.pi/2)*(1/(num_angles-1))\n",
    "    angle_holder = np.arange(0,num_angles)\n",
    "    angles = angle_holder*delta_angle\n",
    "    angles.shape = (len(angles),1)\n",
    "    #print(num_angles)\n",
    "    pi_n = pi_n_store\n",
    "    pi_n_m_1 = np.zeros([num_angles,len(pi_n[1,:])])\n",
    "    #print('dimensions','pi_n_store',  np.size(pi_n_m_1[:,0]),np.size(pi_n_m_1[0,:]))\n",
    "    pi_n_m_1[:,1:len(pi_n[1,:])] = pi_n[:,0:len(pi_n[1,:])-1]\n",
    "    \n",
    "    #print(pi_n_m_1,'pi_n_m_1')\n",
    "    \n",
    "    n = np.arange(0,np.size(pi_n_store[1,:]))\n",
    "    n.shape = (1,len(n))\n",
    "    tau_n_store = n*np.cos(angles)*pi_n - (n+1)*pi_n_m_1 \n",
    "       \n",
    "    return tau_n_store\n",
    "\n"
   ]
  },
  {
   "cell_type": "markdown",
   "id": "a555c128",
   "metadata": {},
   "source": [
    "At the time BHMIE was developed (and possibly still?), roundoff errors due to the calculation of arbitrarily ordered Bessel functions presented a challenged to the computation of scattering coefficients. The solution presented by BOHREN and HUFFMAN is to use the logarithmic derivative \n",
    "\n",
    "$$ D_n(\\rho) = \\dfrac{d}{d\\rho}ln(\\psi_n(\\rho)) $$\n",
    "\n",
    "and has the recurance relation $D_{n-1} = \\frac{n}{\\rho} - \\frac{1}{D_n +n/\\rho}$ and $D_{NMX} = 0$\n",
    "\n",
    "Note that we observe $\\rho = x$ and $\\psi_n$ in the initial definition of $D_n$. These represents the Riccati-Vessel function $\\psi_n(\\rho) = \\rho j_n(\\rho)$ with the following recursion relation \n",
    "\n",
    "$$\\psi_{n+1}(x) = \\frac{2n+1}{x}\\psi_n(x) - \\psi_{n-1}(x) $$ \n",
    "\n",
    "where \n",
    "\n",
    "$$ \\psi_{-1}(x) = cos(x),\\ \\psi_0(x)= sin(x)$$ \n",
    "$$ \\chi_{-1}(x) = -sin(x),\\ \\chi_0(x) = cos(x)$$ \n",
    "\n",
    "Here, $\\xi = \\psi_n - i\\chi_n$ and follows the same recursion relation as $\\psi_n(x)$. \n",
    "\n",
    "These bessel-related functions will be used to calculate the $a_n$ and $b_n$ coefficients which describe the expansion of the plane wave fector in vector spherical harmonics and thus can be used to determine scattering coefficients later on. "
   ]
  },
  {
   "cell_type": "code",
   "execution_count": 6,
   "id": "478eb65f",
   "metadata": {},
   "outputs": [],
   "source": [
    "def log_derivative_D_J(NMX,relative_N,x):\n",
    "    y = relative_N*x\n",
    "    D_store = np.zeros(NMX+1)+1j*np.zeros(NMX+1)\n",
    "    D_store[NMX] = 0+1j*0\n",
    "    for n in range(0,NMX):\n",
    "        D_store[NMX-n-1] = (NMX-n)/y - (1/((D_store[NMX-n]) + (NMX-n)/y))\n",
    "       # print(D_store)\n",
    "    return D_store"
   ]
  },
  {
   "cell_type": "code",
   "execution_count": 7,
   "id": "5a25bab6",
   "metadata": {},
   "outputs": [],
   "source": [
    "def psi_eta_generate(x, NMX):\n",
    "    \n",
    "    psi_store = np.zeros(NMX+1)\n",
    "    chi_store = np.zeros(NMX+1)\n",
    "    eta_store =np.zeros(NMX+1, dtype=complex)\n",
    "    \n",
    "    psi_m1 = np.cos(x)\n",
    "    psi_0 = np.sin(x)\n",
    "    \n",
    "    chi_m1 = -1*np.sin(x)\n",
    "    chi_0 = np.cos(x)\n",
    "    \n",
    "    eta_m1 = psi_m1-1j*chi_m1\n",
    "    eta_0 = psi_0 - 1j*chi_0\n",
    "    \n",
    "    psi_store[0] = psi_0\n",
    "    chi_store[0] = chi_0\n",
    "    eta_store[0] = eta_0\n",
    "    \n",
    "    for n in range(0,NMX): \n",
    "        if n == 0:\n",
    "            psi_store[n+1] = ((2*n+1)/x)*psi_store[n]-psi_m1\n",
    "            chi_store[n+1] = ((2*n+1)/x)*chi_store[n]-chi_m1\n",
    "            \n",
    "        else: \n",
    "            psi_store[n+1] = ((2*n+1)/x)*psi_store[n] - psi_store[n-1]\n",
    "            chi_store[n+1] = ((2*n+1)/x)*chi_store[n] - chi_store[n-1]\n",
    "            \n",
    "            \n",
    "        eta_store[n+1] = psi_store[n+1]-1j*chi_store[n+1]\n",
    "        #print(eta_store[n+1])\n",
    "            \n",
    "    return psi_store,  eta_store\n",
    " \n",
    "    \n",
    "    "
   ]
  },
  {
   "cell_type": "markdown",
   "id": "9a0e4f2b",
   "metadata": {},
   "source": [
    "Now, we have what we need to calculate the scattering coefficients for a sphere ($a_n$ and $b_n$)\n",
    "\n",
    "$$ a_n = \\frac{[D_n(mx)/m + n/x]\\psi_n(x) - \\psi_{n-1}(x)}{[D_n(mx)/m + n/x]\\xi_n(x) - \\xi_{n-1}(x)}$$\n",
    "\n",
    "$$ b_n = \\frac{[mD_n(mx) + n/x]\\psi_n(x) - \\psi_{n-1}(x)}{[mD_n(mx) + n/x]\\xi_n(x) - \\xi_{n-1}(x)}$$"
   ]
  },
  {
   "cell_type": "code",
   "execution_count": 8,
   "id": "7fcd95f1",
   "metadata": {},
   "outputs": [],
   "source": [
    "def coefficient_an_bn(x, NMX, relative_N):\n",
    "    \n",
    "    #call previous functions\n",
    "    psi_store, eta_store = psi_eta_generate(x, NMX)\n",
    "    D_store = log_derivative_D_J(NMX,relative_N,x)\n",
    "    \n",
    "    psi_m1 = np.cos(x)    \n",
    "    chi_m1 = -1*np.sin(x)\n",
    "    eta_m1 = psi_m1 - 1j*chi_m1\n",
    "    \n",
    "    \n",
    "    an_store = np.zeros(NMX+1, dtype=complex)\n",
    "    bn_store = np.zeros(NMX+1,dtype=complex)\n",
    "    \n",
    "    for n in range(0,NMX+1):\n",
    "   \n",
    "        if n == 0:            \n",
    "            an_numer = (D_store[n]/relative_N + n/x)*psi_store[n] - psi_m1\n",
    "            an_denom = (D_store[n]/relative_N + n/x)*eta_store[n] - eta_m1\n",
    "            an_store[n] = an_numer/an_denom\n",
    "            \n",
    "            bn_numer = (D_store[n]*relative_N + n/x)*psi_store[n] - psi_m1\n",
    "            bn_denom = (D_store[n]*relative_N + n/x)*eta_store[n] - eta_m1\n",
    "            bn_store[n] = bn_numer/bn_denom\n",
    "\n",
    "        else: \n",
    "            an_numer = (D_store[n]/relative_N + n/x)*psi_store[n] - psi_store[n-1]\n",
    "            an_denom = (D_store[n]/relative_N + n/x)*eta_store[n] - eta_store[n-1]\n",
    "            an_store[n] = an_numer/an_denom\n",
    "            \n",
    "            bn_numer = (D_store[n]*relative_N + n/x)*psi_store[n] - psi_store[n-1]\n",
    "            bn_denom = (D_store[n]*relative_N + n/x)*eta_store[n] - eta_store[n-1]\n",
    "            bn_store[n] = bn_numer/bn_denom   \n",
    "    \n",
    "    return an_store, bn_store\n",
    "\n"
   ]
  },
  {
   "cell_type": "markdown",
   "id": "c665c83d",
   "metadata": {},
   "source": [
    "From here, we can now calculate the scattering and extinction cross sections\n",
    "\n",
    "$$C_{sca} = \\frac{W_s}{I_i} = \\frac{2\\pi}{k^2} \\sum_{n=1}^\\infty(2n+1)(|a_n|^2 + |b_n|^2) $$\n",
    "\n",
    "$$C_{ext} = \\frac{W_ext}{I_i} = \\frac{2\\pi}{k^2} \\sum_{n=1}^\\infty(2n+1)Re\\{a_n + b_n\\} $$\n",
    "\n",
    "The absorption cross section can then be calculated as C_{abs} = $C_{ext} - C_{sca}$\n",
    "\n"
   ]
  },
  {
   "cell_type": "code",
   "execution_count": 9,
   "id": "646da96f",
   "metadata": {},
   "outputs": [],
   "source": [
    "def cross_section(x,NMX, relative_N, num_angles): \n",
    "    #note that Qext = Cext/(a^2 pi)\n",
    "    an_store, bn_store = coefficient_an_bn(x, NMX, relative_N)\n",
    "    Q_sca = 0\n",
    "    Q_ext = 0    \n",
    "    for n in range(1,NMX+1):\n",
    "        Q_sca += ((2*n+1)*(abs(an_store[n])*abs(an_store[n]) + abs(bn_store[n])*abs(bn_store[n])))\n",
    "        Q_ext += (2*n+1)*np.real(an_store[n]+bn_store[n])\n",
    "        #print('square',abs(an_store[n])**2, 'real', np.real(an_store[n]) )\n",
    "        #print(C_sca*(2/(x**2)),C_ext*(2/(x**2)))\n",
    "    Q_sca *= (2/(x**2))\n",
    "    Q_ext *= (2/(x**2))\n",
    "    \n",
    "    stokes_parameters = stokes_param(NMX, num_angles,an_store, bn_store)\n",
    "    \n",
    "    S1 = stokes_parameters.get('S1')\n",
    "    \n",
    "    Q_back = (4/(x**2))*abs(S1[-1])*abs(S1[-1])\n",
    "        \n",
    "    return Q_sca, Q_ext, Q_back, stokes_parameters\n"
   ]
  },
  {
   "cell_type": "markdown",
   "id": "96439a72",
   "metadata": {},
   "source": [
    "To obtain more information, we can also calculate the different stokes parameters. \n",
    "\n",
    "$$ S_1 \\sum_n^{NMX} \\frac{2n+1}{n(n+1)} (a_n\\pi_n + b_n\\tau_n)$$\n",
    "\n",
    "$$ S_1 \\sum_n^{NMX} \\frac{2n+1}{n(n+1)} (a_n\\tau_n + b_n\\pi_n)$$\n",
    "\n",
    "such that \n",
    "\n",
    "$$ \\begin{bmatrix}\n",
    "           E_{||s} \\\\\n",
    "           E_{\\perp s} \\\\\n",
    "         \\end{bmatrix}= \\frac{e^{ik(r-z)}}{-ikr} \\begin{bmatrix}\n",
    "           S_2 & 0 \\\\\n",
    "           0  & S_1\\\\\n",
    "         \\end{bmatrix} \\begin{bmatrix}\n",
    "           E_{||i} \\\\\n",
    "           E_{\\perp i} \\\\\n",
    "         \\end{bmatrix}$$\n",
    "         \n",
    "The stokes parameters can then be calculated from $S_1$ and $S_2$ for each angle, yielding $S_{11}$, $S_{12}$, $S_{33}$,  and $S_{34}$ respectively. The degree of polarization P is also calculated as $P = -\\frac{S_{12}}{S_{11}}$"
   ]
  },
  {
   "cell_type": "code",
   "execution_count": 10,
   "id": "484bcc71",
   "metadata": {},
   "outputs": [],
   "source": [
    "def stokes_param(NMX, num_angles,an_store, bn_store):   \n",
    "    \n",
    "    pi_n_store =  pi_n_calc(num_angles, NMX)\n",
    "    tau_n_store = tau_n_calc(pi_n_store, num_angles)\n",
    "    \n",
    "    \n",
    "    full_180_num_angles = 2*num_angles - 1\n",
    "    end = full_180_num_angles\n",
    "    #print(full_180_num_angles)\n",
    "    S1 = np.zeros([full_180_num_angles], dtype = complex)\n",
    "    S2 = np.zeros([full_180_num_angles], dtype = complex)\n",
    "    \n",
    "    for n in range (1,NMX+1):\n",
    "        fn = ((2*n+1)/(n*(n+1)))\n",
    "        S1[0:num_angles] = S1[0:num_angles]+ fn*(an_store[n]*pi_n_store[:,n]+bn_store[n]*tau_n_store[:,n])\n",
    "        S2[0:num_angles] = S2[0:num_angles]+ fn*(an_store[n]*tau_n_store[:,n]+bn_store[n]*pi_n_store[:,n])\n",
    "        T = (-1)**n\n",
    "        P = (-1)**(n-1)\n",
    "        S1[num_angles:end] =  S1[num_angles:end] + np.flip(fn*(an_store[n]*pi_n_store[0:num_angles-1,n]*P + bn_store[n]*tau_n_store[0:num_angles-1,n]*T))\n",
    "        S2[num_angles:end] = S2[num_angles:end] + np.flip(fn*(an_store[n]*tau_n_store[0:num_angles-1,n]*T + bn_store[n]*pi_n_store[0:num_angles-1,n]*P))    \n",
    "    \n",
    "    \n",
    "    \n",
    "    S11_norm = 0.5*(abs(S2[0])**2 + abs(S1[0])**2)    \n",
    "    #S11_norm = 0.5*(abs(S2)**2 + abs(S1)**2)\n",
    "    S11 = 0.5*abs(S2)*abs(S2)\n",
    "    S11 = S11 + 0.5*(abs(S1)*abs(S1))\n",
    "        \n",
    "    S12 = 0.5*abs(S2)*abs(S2)\n",
    "    S12 = S12 - 0.5*abs(S1)*abs(S1)\n",
    "        \n",
    "    Pol = -S12/S11 \n",
    "    S33 = np.real(S2*np.conjugate(S1))\n",
    "    S33 = S33/S11\n",
    "    S34 = np.imag(S2*np.conjugate(S1))\n",
    "    S34 = S34/S11\n",
    "    S11 =S11/S11_norm\n",
    "    \n",
    "    delta_angle = (np.pi/2)*(1/(num_angles-1))\n",
    "    angle_holder = np.arange(0,num_angles*2-1)\n",
    "    ang = angle_holder*delta_angle*57.2958\n",
    "    \n",
    "    #print(S11)\n",
    "    stokes_parameters = {'S1': S1, 'S2':S2, 'S11':S11, 'S12':S12, 'Pol':Pol, 'S33':S33, 'S34':S34, 'ang':ang}\n",
    "    \n",
    "    \n",
    "    return stokes_parameters\n",
    "\n",
    "num_angles = 11\n",
    "radius = 0.525\n",
    "wavelength = 0.6328\n",
    "medium_n = 1\n",
    "sphere_n = relative_N = 1.55 +1j*1E-8\n",
    "x, relative_N, NMX = calculate_x(medium_n, sphere_n, radius, wavelength, num_angles)\n",
    "#print(relative_N)\n",
    "Q_sca, Q_ext, Q_back, stokes_parameters = cross_section(x, NMX, relative_N, num_angles)\n",
    "\n",
    "#print(Q_sca, Q_ext, Q_back, Q_ext>Q_sca)\n"
   ]
  },
  {
   "cell_type": "markdown",
   "id": "8268bc66",
   "metadata": {},
   "source": [
    "These next few functions are designed to take a .csv file input of refractive index information from this site: https://refractiveindex.info/?shelf=main&book=Au&page=Magnozzi-25C\n",
    "\n",
    "With two columns, one wavelength and the other either n (first half) and then k (second half). \n",
    "\n",
    "There will be a pop up so you can select the file from your computer (it uses tkinter)."
   ]
  },
  {
   "cell_type": "code",
   "execution_count": 11,
   "id": "ad973305",
   "metadata": {},
   "outputs": [],
   "source": [
    "# Import the required Libraries\n",
    "from tkinter import *\n",
    "from tkinter import filedialog\n",
    "from tkinter.filedialog import askopenfile\n",
    "import os\n",
    "import pandas as pd\n",
    "\n",
    "# Create an instance of tkinter frame\n",
    "\n",
    "file = filedialog.askopenfile(mode='r')\n",
    "filepath = os.path.abspath(file.name)\n"
   ]
  },
  {
   "cell_type": "code",
   "execution_count": 12,
   "id": "9b568208",
   "metadata": {},
   "outputs": [
    {
     "name": "stdout",
     "output_type": "stream",
     "text": [
      "601 601\n"
     ]
    }
   ],
   "source": [
    "df = pd.read_table(filepath, delimiter = ',')\n",
    "numpy_array = np.asarray(df)\n",
    "\n",
    "\n",
    "\n",
    "first_half_n = numpy_array[0:int(len(numpy_array)/2)]\n",
    "second_half_k = numpy_array[int(len(numpy_array)/2)+1:len(numpy_array)+1]\n",
    "real_index_n= first_half_n.astype(float)\n",
    "complex_index_k = second_half_k.astype(float)\n",
    "\n",
    "wavelength = real_index_n[:,0]\n",
    "wavelength_2 = complex_index_k[:,0]\n",
    "\n",
    "#print(wavelength == wavelength_2)\n",
    "print(len(real_index_n), len(complex_index_k))"
   ]
  },
  {
   "cell_type": "code",
   "execution_count": 13,
   "id": "d7b66892",
   "metadata": {},
   "outputs": [],
   "source": [
    "\n",
    "def extinction_plot(medium_n_range, sphere_n_range, radius, wavelength_range, num_angles):\n",
    "    #right now assume micrometers for wavelength and radius \n",
    "    Q_ext_store = np.zeros(len(wavelength_range))\n",
    "    \n",
    "    for wavelength_indx in range(0,len(wavelength_range)):\n",
    "        \n",
    "        wavelength = wavelength_range[wavelength_indx] #in micrometers \n",
    "        sphere_n = sphere_n_range[wavelength_indx]\n",
    "        medium_n = medium_n_range[wavelength_indx]\n",
    "        #print(wavelength, sphere_n, medium_n)\n",
    "        \n",
    "        x, relative_N, NMX = calculate_x(medium_n, sphere_n, radius, wavelength, num_angles)\n",
    "        Q_sca, Q_ext, Q_back, stokes_parameters = cross_section(x, NMX, relative_N, num_angles)\n",
    "        \n",
    "        Q_ext_store[wavelength_indx] = Q_ext       \n",
    "        \n",
    "    \n",
    "    return Q_ext_store\n",
    "\n"
   ]
  },
  {
   "cell_type": "code",
   "execution_count": 14,
   "id": "349a9576",
   "metadata": {},
   "outputs": [],
   "source": [
    "medium_n_range = real_index_n[:,1]*0 + 1\n",
    "sphere_n_range = real_index_n[:,1] + 1j*complex_index_k[:,1]\n",
    "wavelength_range = wavelength \n",
    "energy_range_eV = (6.626E-34*2.998E8)/(wavelength_range*1E-6*1.6022E-19)\n",
    "#print(sphere_n_range)\n",
    "radius = 0.01 # in micron \n",
    "num_angles = 11"
   ]
  },
  {
   "cell_type": "markdown",
   "id": "77aa38f1",
   "metadata": {},
   "source": [
    "This function plots the extinction efficiency for particles of different wavelengths. "
   ]
  },
  {
   "cell_type": "code",
   "execution_count": 15,
   "id": "85754977",
   "metadata": {},
   "outputs": [],
   "source": [
    "radii = np.arange(0.005,0.05,0.005) #in micron\n",
    "num_radii = len(radii)\n",
    "Q_ext_store = np.zeros([num_radii,len(wavelength)])\n",
    "\n",
    "for radii_indx in range(0,num_radii):\n",
    "    radius = radii[radii_indx]\n",
    "    Q_ext_store[radii_indx,:]=extinction_plot(medium_n_range, sphere_n_range, radius, wavelength_range, num_angles)"
   ]
  },
  {
   "cell_type": "code",
   "execution_count": 16,
   "id": "069150df",
   "metadata": {},
   "outputs": [
    {
     "name": "stdout",
     "output_type": "stream",
     "text": [
      "3.6565062528368673\n"
     ]
    },
    {
     "data": {
      "image/png": "[encoded data removed]",
      "text/plain": [
       "<Figure size 432x288 with 1 Axes>"
      ]
     },
     "metadata": {
      "needs_background": "light"
     },
     "output_type": "display_data"
    }
   ],
   "source": [
    "fig = plt.figure()\n",
    "# to change default color cycle\n",
    "colormap = plt.cm.viridis\n",
    "plt.rcParams['axes.prop_cycle'] = plt.cycler(color=plt.cm.Set3.colors)\n",
    "ax1 = fig.add_subplot(111)\n",
    "for radii_indx in range(0,num_radii):\n",
    "    plt.plot(energy_range_eV, Q_ext_store[radii_indx,:], label = str(int(radii[radii_indx]*1000)) + ' nm')\n",
    "    #plt.plot(wavelength_range, Q_ext_store[radii_indx,:]/np.max(Q_ext_store[radii_indx,100:-1]))\n",
    "    \n",
    "plt.xlabel('Energy (eV)')\n",
    "plt.ylabel(r'$Q_{ext}\\ [C_{ext}/(\\pi a^2)]$')\n",
    "\n",
    "\n",
    "ax1.set_aspect('equal')\n",
    "plt.legend()\n",
    "\n",
    "print(np.max(Q_ext_store[radii_indx,:]))\n",
    "plt.savefig(\"multiple_radii.pdf\")\n"
   ]
  },
  {
   "cell_type": "code",
   "execution_count": null,
   "id": "d956616f",
   "metadata": {},
   "outputs": [],
   "source": []
  }
 ],
 "metadata": {
  "kernelspec": {
   "display_name": "Python 3",
   "language": "python",
   "name": "python3"
  },
  "language_info": {
   "codemirror_mode": {
    "name": "ipython",
    "version": 3
   },
   "file_extension": ".py",
   "mimetype": "text/x-python",
   "name": "python",
   "nbconvert_exporter": "python",
   "pygments_lexer": "ipython3",
   "version": "3.8.8"
  }
 },
 "nbformat": 4,
 "nbformat_minor": 5
}
